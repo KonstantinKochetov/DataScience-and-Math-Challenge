{
 "cells": [
  {
   "cell_type": "markdown",
   "metadata": {
    "collapsed": true
   },
   "source": []
  },
  {
   "cell_type": "markdown",
   "metadata": {},
   "source": [
    "# Task\n",
    "Given the 3 conditions: <br> \n",
    "    - Sebastian know the geometric mean\n",
    "    - Stefan know the ariphmetic mean\n",
    "    - Steven know the arithmetic mean of the squares\n",
    "\n",
    "And the sequence of operations: <br> \n",
    "    - I don't know all of the numbers\n",
    "    - ...\n",
    "    \n",
    "Find the list of 3 integers, each of them can span from 1 to 100.\n"
   ]
  },
  {
   "cell_type": "markdown",
   "metadata": {},
   "source": [
    "# Solution\n",
    "\n",
    "We assume:\n",
    "    - each person can deduce the list of possible solutions. For example, knowing the geometric mean a person deduces the list of possible integeres ({27,38, 31}, {...}).\n",
    "    - each person knows all possible variations of 1-100 list to the answer respectively. For example, Stefan knows variations of ariphmetic mean 2 ({3,2,1}, {2,2,2} etc.)"
   ]
  },
  {
   "cell_type": "markdown",
   "metadata": {},
   "source": [
    "I. \n",
    "First we build the list of all possible variations of lists {1,1,1} to {100,100,100}. The result is array of tuples with count 171 700. Second we define the function that actually creates the dataset.\n",
    "![title](images/variations.png)\n"
   ]
  },
  {
   "cell_type": "code",
   "execution_count": 1,
   "metadata": {},
   "outputs": [],
   "source": [
    "def variations():\n",
    "    for a in range(1, 101):\n",
    "        for b in range(1, a + 1):\n",
    "            for c in range(1, b + 1):\n",
    "                yield a, b, c"
   ]
  },
  {
   "cell_type": "code",
   "execution_count": 2,
   "metadata": {},
   "outputs": [],
   "source": [
    "def init_dataset():\n",
    "    return [(a, b, c) for (a, b, c) in variations()]"
   ]
  },
  {
   "cell_type": "markdown",
   "metadata": {},
   "source": [
    "II.\n",
    "We put all possible variations to the respective answer of the person. That means, each person will have a dictionary, where keys are their respective mean and values are numbers of that mean, i.e. dictionary of Stefan who knows ariphmetic mean: { 1: 1,1,1 }, {2; {3,2,1}, {2,2,2}} etc. <br> \n",
    "Let's define functions:\n",
    "    - for geometric mean for Sebastian.\n",
    "    - for storing the numbers in persons (represented as dictionaries).\n",
    "    - initializing function that creates 3 persons (dictionaries), stores the numbers in them and defines lambda function (which computes the respective mean given the 3 numbers) as first element of the dictionary.\n"
   ]
  },
  {
   "cell_type": "code",
   "execution_count": 3,
   "metadata": {},
   "outputs": [],
   "source": [
    "from scipy._lib.six import reduce\n",
    "\n",
    "def geometric_mean(nums):\n",
    "    return (reduce(lambda x, y: x * y, nums)) ** (1.0 / len(nums))"
   ]
  },
  {
   "cell_type": "code",
   "execution_count": 4,
   "metadata": {},
   "outputs": [],
   "source": [
    "def store_numbers(person, what, where):\n",
    "    if where not in person:\n",
    "        person[where] = []\n",
    "    person[where].append(what)"
   ]
  },
  {
   "cell_type": "code",
   "execution_count": 5,
   "metadata": {},
   "outputs": [],
   "source": [
    "def init():\n",
    "    global SEBASTIAN, STEFAN, STEVEN\n",
    "    SEBASTIAN = dict()\n",
    "    STEFAN = dict()\n",
    "    STEVEN = dict()\n",
    "    for a, b, c in variations():\n",
    "        store_numbers(SEBASTIAN, (a, b, c), geometric_mean([a, b, c]))\n",
    "        store_numbers(STEFAN, (a, b, c), (a + b + c) / 3)\n",
    "        store_numbers(STEVEN, (a, b, c), (a * a + b * b + c * c) / 3)\n",
    "    # lambda function which computes the respective mean\n",
    "    SEBASTIAN[0] = lambda a, b, c: geometric_mean([a, b, c])\n",
    "    STEFAN[0] = lambda a, b, c: (a + b + c) / 3\n",
    "    STEVEN[0] = lambda a, b, c: (a * a + b * b + c * c) / 3"
   ]
  },
  {
   "cell_type": "code",
   "execution_count": 6,
   "metadata": {},
   "outputs": [
    {
     "name": "stdout",
     "output_type": "stream",
     "text": [
      "171700\n"
     ]
    }
   ],
   "source": [
    "# applying functions\n",
    "init()\n",
    "dataset_0 = init_dataset()\n",
    "print(len(dataset_0))"
   ]
  },
  {
   "cell_type": "markdown",
   "metadata": {},
   "source": [
    "III. Now we should define the set of functions which corresponds to the sentences that person says (i.e. I don't know all of the numbers etc.). <br> \n",
    "Here is a helper function that calculates the respective mean (which is the key to the dictionaries) and returns the value."
   ]
  },
  {
   "cell_type": "code",
   "execution_count": 7,
   "metadata": {},
   "outputs": [],
   "source": [
    "def get(a, b, c, person):\n",
    "    return person[person[0](a, b, c)]"
   ]
  },
  {
   "cell_type": "markdown",
   "metadata": {},
   "source": [
    "Let's define a function that corresponds to the sentence (\"I know all the numbers\"). We using the list comprehension to iterate over given dataset and checking if list of 3 integers in the dataset (i.e. {1,1,1}) has one representation in person dictionary."
   ]
  },
  {
   "cell_type": "code",
   "execution_count": 8,
   "metadata": {},
   "outputs": [],
   "source": [
    "def i_know_all_the_numbers(dataset, person):\n",
    "    return [(a, b, c) for (a, b, c) in dataset if len(get(a, b, c, person)) == 1]"
   ]
  },
  {
   "cell_type": "markdown",
   "metadata": {},
   "source": [
    "\"I don't know the numbers\" is a negation of \"I don't know all the numbers\""
   ]
  },
  {
   "cell_type": "code",
   "execution_count": 9,
   "metadata": {},
   "outputs": [],
   "source": [
    "def i_dont_know_all_the_numbers(dataset, person):\n",
    "    return [(a, b, c) for (a, b, c) in dataset if len(get(a, b, c, person)) > 1]"
   ]
  },
  {
   "cell_type": "markdown",
   "metadata": {},
   "source": [
    "After person says his sentence (i.e. \"I dont know all the numbers\"), we need to remove the difference between what we knew before we sentence was said and what we know after the sentence was said. And we need to apply it to every person <br> \n",
    "PS: The first person who says it is STEVEN, so we will need to execute both functions on him and initial dataset."
   ]
  },
  {
   "cell_type": "code",
   "execution_count": 10,
   "metadata": {},
   "outputs": [],
   "source": [
    "def remove(old, new):\n",
    "    for (a, b, c) in set(old).difference(set(new)):\n",
    "        for h in [SEBASTIAN, STEFAN, STEVEN]: \n",
    "            get(a, b, c, h).remove((a, b, c))"
   ]
  },
  {
   "cell_type": "code",
   "execution_count": 11,
   "metadata": {},
   "outputs": [
    {
     "name": "stdout",
     "output_type": "stream",
     "text": [
      "169217\n"
     ]
    }
   ],
   "source": [
    "# applying the functions\n",
    "dataset_1 = i_dont_know_all_the_numbers(dataset_0, STEVEN)\n",
    "print(len(dataset_1))\n",
    "# removing the difference\n",
    "remove(dataset_0, dataset_1)"
   ]
  },
  {
   "cell_type": "markdown",
   "metadata": {},
   "source": [
    "After applying first function to STEVEN with \"i_dont_know_all_the_numbers\" we will enter the dialog between SEBASTIAN and STEVEN. <br> \n",
    "    - SEBASTIAN: I don't know any numbers\n",
    "    - STEVEN: You didn't need to tell me that, I knew that already\n",
    "    - SEBASTIAN: Well now I know all the numbers\n",
    "\n",
    "Their dialog is based on checking the intersections."
   ]
  },
  {
   "cell_type": "markdown",
   "metadata": {},
   "source": [
    "First we define the function that checks whether the intersection of all sets in its input is non-empty."
   ]
  },
  {
   "cell_type": "code",
   "execution_count": 12,
   "metadata": {},
   "outputs": [],
   "source": [
    "def intersect(my_list):\n",
    "    s = set(list(my_list)[0])\n",
    "    for x in my_list:\n",
    "        s.intersection_update(set(x))\n",
    "    return len(s) > 0"
   ]
  },
  {
   "cell_type": "markdown",
   "metadata": {},
   "source": [
    "Then we write a function that checks if a person does not know any of the numbers for all possibilities in list"
   ]
  },
  {
   "cell_type": "code",
   "execution_count": 13,
   "metadata": {},
   "outputs": [],
   "source": [
    "def check(my_list, sebastian):\n",
    "    for a, b, c in my_list:\n",
    "        if intersect(get(a, b, c, sebastian)):\n",
    "            return False\n",
    "    return True"
   ]
  },
  {
   "cell_type": "markdown",
   "metadata": {},
   "source": [
    "The latest function is used in dialog function (which handles dialog between SEBASTIAN and STEVEN). Steven already knew that Sebastian didn't know any of the numbers, so Sebastian deduces that he needs to find a list that he thinks Steven has that does not have intersections."
   ]
  },
  {
   "cell_type": "code",
   "execution_count": 14,
   "metadata": {},
   "outputs": [],
   "source": [
    "def dialog(dataset, steven, sebastian):\n",
    "    return [(a, b, c) for (a, b, c) in dataset if check(get(a, b, c, steven), sebastian)]"
   ]
  },
  {
   "cell_type": "code",
   "execution_count": 15,
   "metadata": {},
   "outputs": [
    {
     "name": "stdout",
     "output_type": "stream",
     "text": [
      "33727\n",
      "2388\n"
     ]
    }
   ],
   "source": [
    "# applying the functions\n",
    "dataset_2 = dialog(dataset_1, STEVEN, SEBASTIAN)\n",
    "remove(dataset_1, dataset_2)\n",
    "print(len(dataset_2))\n",
    "dataset_3 = i_know_all_the_numbers(dataset_2, SEBASTIAN)\n",
    "remove(dataset_2, dataset_3)\n",
    "print(len(dataset_3))"
   ]
  },
  {
   "cell_type": "markdown",
   "metadata": {},
   "source": [
    "After that we apply the functions in order of the sentences."
   ]
  },
  {
   "cell_type": "code",
   "execution_count": 16,
   "metadata": {},
   "outputs": [
    {
     "name": "stdout",
     "output_type": "stream",
     "text": [
      "1754\n",
      "1725\n",
      "1713\n",
      "[(23, 10, 5)]\n"
     ]
    }
   ],
   "source": [
    "dataset_4 = i_dont_know_all_the_numbers(dataset_3, STEVEN)\n",
    "print(len(dataset_4))\n",
    "remove(dataset_3, dataset_4)\n",
    "dataset_5 = i_dont_know_all_the_numbers(dataset_4, STEFAN)\n",
    "print(len(dataset_5))\n",
    "remove(dataset_4, dataset_5)\n",
    "dataset_6 = i_dont_know_all_the_numbers(dataset_5, STEVEN)\n",
    "print(len(dataset_6))\n",
    "remove(dataset_5, dataset_6)\n",
    "result = i_know_all_the_numbers(dataset_6, STEFAN)\n",
    "print(result)"
   ]
  },
  {
   "cell_type": "markdown",
   "metadata": {},
   "source": [
    "# Result\n",
    "Thus, the final result is a list of 3 integers { 23,10,5 }"
   ]
  },
  {
   "cell_type": "markdown",
   "metadata": {},
   "source": [
    "Since we now know it, we can calculate numbers that each person could deduce and had as candidates."
   ]
  },
  {
   "cell_type": "code",
   "execution_count": 17,
   "metadata": {},
   "outputs": [],
   "source": [
    "init() # reinitialize start state"
   ]
  },
  {
   "cell_type": "code",
   "execution_count": 18,
   "metadata": {},
   "outputs": [
    {
     "name": "stdout",
     "output_type": "stream",
     "text": [
      "Sebastian\n",
      "[(23, 10, 5), (25, 23, 2), (46, 5, 5), (46, 25, 1), (50, 23, 1)]\n"
     ]
    }
   ],
   "source": [
    "print(\"Sebastian\")\n",
    "print(SEBASTIAN[geometric_mean([23,10,5])])"
   ]
  },
  {
   "cell_type": "code",
   "execution_count": 19,
   "metadata": {},
   "outputs": [
    {
     "name": "stdout",
     "output_type": "stream",
     "text": [
      "Stefan\n",
      "[(13, 13, 12), (14, 12, 12), (14, 13, 11), (14, 14, 10), (15, 12, 11), (15, 13, 10), (15, 14, 9), (15, 15, 8), (16, 11, 11), (16, 12, 10), (16, 13, 9), (16, 14, 8), (16, 15, 7), (16, 16, 6), (17, 11, 10), (17, 12, 9), (17, 13, 8), (17, 14, 7), (17, 15, 6), (17, 16, 5), (17, 17, 4), (18, 10, 10), (18, 11, 9), (18, 12, 8), (18, 13, 7), (18, 14, 6), (18, 15, 5), (18, 16, 4), (18, 17, 3), (18, 18, 2), (19, 10, 9), (19, 11, 8), (19, 12, 7), (19, 13, 6), (19, 14, 5), (19, 15, 4), (19, 16, 3), (19, 17, 2), (19, 18, 1), (20, 9, 9), (20, 10, 8), (20, 11, 7), (20, 12, 6), (20, 13, 5), (20, 14, 4), (20, 15, 3), (20, 16, 2), (20, 17, 1), (21, 9, 8), (21, 10, 7), (21, 11, 6), (21, 12, 5), (21, 13, 4), (21, 14, 3), (21, 15, 2), (21, 16, 1), (22, 8, 8), (22, 9, 7), (22, 10, 6), (22, 11, 5), (22, 12, 4), (22, 13, 3), (22, 14, 2), (22, 15, 1), (23, 8, 7), (23, 9, 6), (23, 10, 5), (23, 11, 4), (23, 12, 3), (23, 13, 2), (23, 14, 1), (24, 7, 7), (24, 8, 6), (24, 9, 5), (24, 10, 4), (24, 11, 3), (24, 12, 2), (24, 13, 1), (25, 7, 6), (25, 8, 5), (25, 9, 4), (25, 10, 3), (25, 11, 2), (25, 12, 1), (26, 6, 6), (26, 7, 5), (26, 8, 4), (26, 9, 3), (26, 10, 2), (26, 11, 1), (27, 6, 5), (27, 7, 4), (27, 8, 3), (27, 9, 2), (27, 10, 1), (28, 5, 5), (28, 6, 4), (28, 7, 3), (28, 8, 2), (28, 9, 1), (29, 5, 4), (29, 6, 3), (29, 7, 2), (29, 8, 1), (30, 4, 4), (30, 5, 3), (30, 6, 2), (30, 7, 1), (31, 4, 3), (31, 5, 2), (31, 6, 1), (32, 3, 3), (32, 4, 2), (32, 5, 1), (33, 3, 2), (33, 4, 1), (34, 2, 2), (34, 3, 1), (35, 2, 1), (36, 1, 1)]\n"
     ]
    }
   ],
   "source": [
    "print(\"Stefan\")\n",
    "print(STEFAN[(23+10+5) / 3])"
   ]
  },
  {
   "cell_type": "code",
   "execution_count": 20,
   "metadata": {},
   "outputs": [
    {
     "name": "stdout",
     "output_type": "stream",
     "text": [
      "Steven\n",
      "[(17, 14, 13), (19, 17, 2), (22, 11, 7), (22, 13, 1), (23, 10, 5), (23, 11, 2), (25, 5, 2)]\n"
     ]
    }
   ],
   "source": [
    "print(\"Steven\")\n",
    "print(STEVEN[(23*23 + 10*10 + 5*5)/3])"
   ]
  },
  {
   "cell_type": "markdown",
   "metadata": {},
   "source": [
    "# Epilogue\n",
    "The magic integeres are 23,10,5. And numbers of each person are displayed above"
   ]
  }
 ],
 "metadata": {
  "kernelspec": {
   "display_name": "Python 3",
   "language": "python",
   "name": "python3"
  },
  "language_info": {
   "codemirror_mode": {
    "name": "ipython",
    "version": 3
   },
   "file_extension": ".py",
   "mimetype": "text/x-python",
   "name": "python",
   "nbconvert_exporter": "python",
   "pygments_lexer": "ipython3",
   "version": "3.6.4"
  }
 },
 "nbformat": 4,
 "nbformat_minor": 1
}
