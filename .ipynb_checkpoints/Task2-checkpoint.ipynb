{
 "cells": [
  {
   "cell_type": "code",
   "execution_count": 59,
   "metadata": {},
   "outputs": [
    {
     "name": "stdout",
     "output_type": "stream",
     "text": [
      "171700\n",
      "169217\n",
      "46912\n",
      "[(23, 10, 5)]\n"
     ]
    },
    {
     "data": {
      "text/plain": [
       "[(23, 10, 5)]"
      ]
     },
     "execution_count": 59,
     "metadata": {},
     "output_type": "execute_result"
    }
   ],
   "source": [
    "def add_to_hist(hist, what, where):\n",
    "    if where not in hist:\n",
    "        hist[where] = []\n",
    "    hist[where].append(\n",
    "        what)  # sum of squares -> CHRIS[1: 111] or CHRIS[6: 211], CHRIS[654: {(17,14,13),(19,17,2),(22,11,7),(22,13,1),(23,10,5),(23,11,2),(25,5,2)]\n",
    "\n",
    "def all_numbers():\n",
    "    for a in range(1, 101):\n",
    "        for b in range(1, a + 1):\n",
    "            for c in range(1, b + 1):\n",
    "                yield a, b, c\n",
    "\n",
    "def tally():\n",
    "    global ALICE, BOB, CHRIS\n",
    "    ALICE = dict()\n",
    "    BOB = dict()\n",
    "    CHRIS = dict()\n",
    "    for a, b, c in all_numbers():\n",
    "        add_to_hist(ALICE, (a, b, c),\n",
    "                    a * b * c)  # ALICE and others have all possible variations of a,b,c\n",
    "        add_to_hist(BOB, (a, b, c), a + b + c)\n",
    "        add_to_hist(CHRIS, (a, b, c), a * a + b * b + c * c)\n",
    "    ALICE[0] = lambda a, b, c: a * b * c  # function that do multiplication\n",
    "    BOB[0] = lambda a, b, c: a + b + c\n",
    "    CHRIS[0] = lambda a, b, c: a * a + b * b + c * c\n",
    "\n",
    "def get(a, b, c, who):\n",
    "    return who[who[0](a, b, c)]  # just performs lambda function and checks dictionary\n",
    "\n",
    "def any(l):\n",
    "    \"whether any number is known from list l\"\n",
    "    s = set(list(l)[0])\n",
    "    for x in l:\n",
    "        s.intersection_update(set(x))\n",
    "    return len(s) > 0\n",
    "\n",
    "def filter_all(curr, who):\n",
    "    \"I don't know all the numbers\"\n",
    "    return [(a, b, c) for (a, b, c) in curr if len(get(a, b, c, who)) > 1] # abc in all is different as abc in CHRIS for example.\n",
    "    # if PERSON has at least 2 elements.for example 654 has 7 representations as sum of squares, 1 has only 1. > 1 because we have to find == 1. It is negation of filter_know\n",
    "\n",
    "def filter_any(curr, who):\n",
    "    \"I don't know any of the numbers\"\n",
    "    return [(a, b, c) for (a, b, c) in curr if not any(get(a, b, c, who))]\n",
    "\n",
    "def filter_know(curr, who):\n",
    "    \"I know all the numbers\"\n",
    "    return [(a, b, c) for (a, b, c) in curr if len(get(a, b, c, who)) == 1]\n",
    "\n",
    "def special(l, who):\n",
    "    \"who doesn't know any of the numbers for all possibilities in l\"\n",
    "    for a, b, c in l:\n",
    "        if any(get(a, b, c, who)):\n",
    "            return False\n",
    "    return True\n",
    "\n",
    "def filter_special(curr, who1, who2):\n",
    "    \"who1 already knew that who2 didn't know any of the numbers\"\n",
    "    return [(a, b, c) for (a, b, c) in curr if special(get(a, b, c, who1), who2)]\n",
    "\n",
    "def initial():\n",
    "    return [(a, b, c) for (a, b, c) in all_numbers()]\n",
    "\n",
    "def do_filter(f_bef, f_aft):\n",
    "    global ALICE, BOB, CHRIS\n",
    "    for (a, b, c) in set(f_bef).difference(set(f_aft)): # f_after 169 217, f_before 171 700, diff 2483 \n",
    "        for h in [ALICE, BOB, CHRIS]:  # loops 3 times\n",
    "            get(a, b, c, h).remove((a, b, c)) # removes elements inside elements (like in 654 case there elements inside elements)\n",
    "\n",
    "def run():\n",
    "    tally()\n",
    "    f0 = initial()\n",
    "    print(len(f0))\n",
    "    f1 = filter_all(f0, CHRIS)\n",
    "    print(len(f1))\n",
    "    do_filter(f0, f1)\n",
    "    print(len(ALICE))\n",
    "    f2 = filter_special(f1, CHRIS, ALICE)\n",
    "    do_filter(f1, f2)\n",
    "    f3 = filter_know(f2, ALICE)\n",
    "    do_filter(f2, f3)\n",
    "    f4 = filter_all(f3, CHRIS)\n",
    "    do_filter(f3, f4)\n",
    "    f5 = filter_all(f4, BOB)\n",
    "    do_filter(f4, f5)\n",
    "    f6 = filter_all(f5, CHRIS)\n",
    "    do_filter(f5, f6)\n",
    "    f7 = filter_know(f6, BOB)\n",
    "    print(f7)\n",
    "    return f7\n",
    "\n",
    "run()\n"
   ]
  },
  {
   "cell_type": "code",
   "execution_count": 46,
   "metadata": {},
   "outputs": [
    {
     "name": "stdout",
     "output_type": "stream",
     "text": [
      "1 1 1\n",
      "2 1 1\n",
      "2 2 1\n",
      "2 2 2\n",
      "3 1 1\n",
      "3 2 1\n",
      "3 2 2\n",
      "3 3 1\n",
      "3 3 2\n",
      "3 3 3\n",
      "4 1 1\n",
      "4 2 1\n",
      "4 2 2\n",
      "4 3 1\n",
      "4 3 2\n",
      "4 3 3\n",
      "4 4 1\n",
      "4 4 2\n",
      "4 4 3\n",
      "4 4 4\n"
     ]
    }
   ],
   "source": [
    "for a in range(1, 5):\n",
    "    for b in range(1, a + 1):\n",
    "        for c in range(1, b + 1):\n",
    "            print(a, b, c)\n",
    "# initial() return this as array of tuples"
   ]
  },
  {
   "cell_type": "code",
   "execution_count": null,
   "metadata": {},
   "outputs": [],
   "source": [
    "tally()\n",
    "f0 = initial()\n",
    "i = 0\n",
    "L = ALICE[ALICE[0](23, 10, 5)]  #A_1,...,A_5\n",
    "(a0, b0, c0) = L[i]\n",
    "M = CHRIS[CHRIS[0](a0, b0, c0)]  #C(A_1)_j\n",
    "j = 0\n",
    "for a1, b1, c1 in M:\n",
    "    j = j + 1\n",
    "    P = ALICE[ALICE[0](a1, b1, c1)]\n",
    "    print(\"A(C_\" + str(i + 1) + \")_\" + str(j) + \"): \" + str(P) + \". Empty intersection: \" + str(\n",
    "        bool(~any(P))))\n",
    "\n",
    "\n"
   ]
  },
  {
   "cell_type": "code",
   "execution_count": 41,
   "metadata": {},
   "outputs": [
    {
     "data": {
      "text/plain": [
       "[(3, 3, 1), (9, 1, 1)]"
      ]
     },
     "execution_count": 41,
     "metadata": {},
     "output_type": "execute_result"
    }
   ],
   "source": [
    "ALICE[9]\n"
   ]
  },
  {
   "cell_type": "code",
   "execution_count": null,
   "metadata": {},
   "outputs": [],
   "source": []
  }
 ],
 "metadata": {
  "kernelspec": {
   "display_name": "Python 3",
   "language": "python",
   "name": "python3"
  },
  "language_info": {
   "codemirror_mode": {
    "name": "ipython",
    "version": 3
   },
   "file_extension": ".py",
   "mimetype": "text/x-python",
   "name": "python",
   "nbconvert_exporter": "python",
   "pygments_lexer": "ipython3",
   "version": "3.6.4"
  }
 },
 "nbformat": 4,
 "nbformat_minor": 1
}
